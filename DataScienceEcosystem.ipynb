{
 "cells": [
  {
   "cell_type": "markdown",
   "id": "53d5a560",
   "metadata": {},
   "source": [
    "# Data Science Tools and Ecosystem"
   ]
  },
  {
   "cell_type": "markdown",
   "id": "8f9c0bcf",
   "metadata": {},
   "source": [
    "In this notebook, Data Science Tools and Ecosystem are summarized."
   ]
  },
  {
   "cell_type": "markdown",
   "id": "386bb6c8",
   "metadata": {},
   "source": [
    "**Objectives:**\n",
    "* Identify popular Languages\n",
    "* Commonly used LibrariesSecond\n",
    "* Commonly used Tools\n",
    "* Show examples"
   ]
  },
  {
   "cell_type": "markdown",
   "id": "1522da7b",
   "metadata": {},
   "source": [
    "Some of the popular languages that Data Scientists use are:\n",
    "1. R\n",
    "2. Julia\n",
    "3. Scala\n",
    "4. SQL"
   ]
  },
  {
   "cell_type": "markdown",
   "id": "dea13ff3",
   "metadata": {},
   "source": [
    "Some of the commonly used libraries used by Data Scientists include:\n",
    "1. NumPy\n",
    "2. Pandas\n",
    "3. TensorFlow\n",
    "4. SciPy\n",
    "5. PyTorch"
   ]
  },
  {
   "cell_type": "markdown",
   "id": "2885d6b5",
   "metadata": {},
   "source": [
    "| Data Science Tools |\n",
    "|------|\n",
    "|RStudio|\n",
    "|   Apache Spark  |\n",
    "|   TensorFlow  |\n",
    "|   Apache Hadoop  |"
   ]
  },
  {
   "cell_type": "markdown",
   "id": "0c543fcd",
   "metadata": {},
   "source": [
    "### Below are a few examples of evaluating arithmetic expressions in Python"
   ]
  },
  {
   "cell_type": "code",
   "execution_count": 2,
   "id": "deb3fc61",
   "metadata": {},
   "outputs": [
    {
     "data": {
      "text/plain": [
       "17"
      ]
     },
     "execution_count": 2,
     "metadata": {},
     "output_type": "execute_result"
    }
   ],
   "source": [
    "#This a simple arithmetic expression to mutiply then add integers\n",
    "(3*4)+5"
   ]
  },
  {
   "cell_type": "code",
   "execution_count": 10,
   "id": "d7482694",
   "metadata": {},
   "outputs": [
    {
     "name": "stdout",
     "output_type": "stream",
     "text": [
      "3 hours and 20 minutes.\n"
     ]
    }
   ],
   "source": [
    "#This will convert 200 minutes to hours by diving by 60\n",
    "print(200//60, 'hours and', 200 - 60 * (200//60), 'minutes.')"
   ]
  },
  {
   "cell_type": "markdown",
   "id": "4c31f48f",
   "metadata": {},
   "source": [
    "## Author \n",
    "Oleksandr P"
   ]
  },
  {
   "cell_type": "code",
   "execution_count": null,
   "id": "6bb518a2",
   "metadata": {},
   "outputs": [],
   "source": []
  }
 ],
 "metadata": {
  "kernelspec": {
   "display_name": "Python 3 (ipykernel)",
   "language": "python",
   "name": "python3"
  },
  "language_info": {
   "codemirror_mode": {
    "name": "ipython",
    "version": 3
   },
   "file_extension": ".py",
   "mimetype": "text/x-python",
   "name": "python",
   "nbconvert_exporter": "python",
   "pygments_lexer": "ipython3",
   "version": "3.9.7"
  }
 },
 "nbformat": 4,
 "nbformat_minor": 5
}
